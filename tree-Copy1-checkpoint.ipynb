{
 "cells": [
  {
   "cell_type": "code",
   "execution_count": 5,
   "id": "f97a70b5",
   "metadata": {},
   "outputs": [
    {
     "data": {
      "text/plain": [
       "['familytree.json', 'familytree.txt', 'familytreexyz.json']"
      ]
     },
     "execution_count": 5,
     "metadata": {},
     "output_type": "execute_result"
    }
   ],
   "source": [
    "import json\n",
    "import os\n",
    "os.chdir(\"C:\\\\Users\\\\Soumya\\\\3D Objects\\\\tree\")\n",
    "os.getcwd()\n",
    "os.listdir(\"C:\\\\Users\\\\Soumya\\\\3D Objects\\\\tree\")"
   ]
  },
  {
   "cell_type": "code",
   "execution_count": 8,
   "id": "f142b754",
   "metadata": {},
   "outputs": [
    {
     "name": "stdout",
     "output_type": "stream",
     "text": [
      "<_io.TextIOWrapper name='familytreexyz.json' mode='r' encoding='cp1252'>\n"
     ]
    }
   ],
   "source": [
    "with open('familytreexyz.json') as f:\n",
    "    print(f)\n",
    "    treedata = json.load(f)"
   ]
  },
  {
   "cell_type": "code",
   "execution_count": 9,
   "id": "adb5d092",
   "metadata": {},
   "outputs": [
    {
     "data": {
      "text/plain": [
       "dict_keys(['Members', 'Name'])"
      ]
     },
     "execution_count": 9,
     "metadata": {},
     "output_type": "execute_result"
    }
   ],
   "source": [
    "treedata.keys()"
   ]
  },
  {
   "cell_type": "code",
   "execution_count": 11,
   "id": "3e83d213",
   "metadata": {},
   "outputs": [
    {
     "data": {
      "text/plain": [
       "{'FamilyTree': 'Some Family Tree',\n",
       " 'Members': [{'Name': 'First-',\n",
       "   'BirthYear': '1221',\n",
       "   'DeathYear': '1264',\n",
       "   'Members': [{'Name': 'Second-',\n",
       "     'BirthYear': '1245',\n",
       "     'DeathYear': '1300',\n",
       "     'Members': [{'Name': 'Third-', 'BirthYear': '1270', 'DeathYear': '1333'},\n",
       "      {'Name': 'Third--', 'BirthYear': '1272', 'DeathYear': '1300'}]},\n",
       "    {'Name': 'Second--',\n",
       "     'BirthYear': '1248',\n",
       "     'DeathYear': '1310',\n",
       "     'Members': [{'Name': 'Third-/', 'BirthYear': '1274', 'DeathYear': '1330'},\n",
       "      {'Name': 'Third-//', 'BirthYear': '1276', 'DeathYear': '1312'}]}]},\n",
       "  {'Name': 'First--',\n",
       "   'BirthYear': '1212',\n",
       "   'DeathYear': '1260',\n",
       "   'Members': [{'Name': 'Second+', 'BirthYear': '1243', 'DeathYear': '1312'},\n",
       "    {'Name': 'Second++',\n",
       "     'BirthYear': '1245',\n",
       "     'DeathYear': '1274',\n",
       "     'Members': [{'Name': 'Third+/', 'BirthYear': '1274', 'DeathYear': '1330'},\n",
       "      {'Name': 'Third+///', 'BirthYear': '1250', 'DeathYear': '1344'}]},\n",
       "    {'Name': 'Second++', 'BirthYear': '1243', 'DeathYear': '1260'}]}]}"
      ]
     },
     "execution_count": 11,
     "metadata": {},
     "output_type": "execute_result"
    }
   ],
   "source": [
    "\n",
    "treedata['Members']"
   ]
  },
  {
   "cell_type": "code",
   "execution_count": null,
   "id": "f7109740",
   "metadata": {},
   "outputs": [],
   "source": []
  },
  {
   "cell_type": "code",
   "execution_count": 6,
   "id": "28138bd4",
   "metadata": {},
   "outputs": [
    {
     "data": {
      "text/plain": [
       "dict"
      ]
     },
     "execution_count": 6,
     "metadata": {},
     "output_type": "execute_result"
    }
   ],
   "source": [
    "test = treedata['Members']['Members'][1]\n",
    "type(test)"
   ]
  },
  {
   "cell_type": "code",
   "execution_count": 7,
   "id": "ae730fa5",
   "metadata": {},
   "outputs": [
    {
     "data": {
      "text/plain": [
       "[{'Name': 'Second+', 'BirthYear': '1243', 'DeathYear': '1312'},\n",
       " {'Name': 'Second++',\n",
       "  'BirthYear': '1245',\n",
       "  'DeathYear': '1274',\n",
       "  'Members': [{'Name': 'Third+/', 'BirthYear': '1274', 'DeathYear': '1330'},\n",
       "   {'Name': 'Third+//', 'BirthYear': '1276', 'DeathYear': '1312'},\n",
       "   {'Name': 'Third+///', 'BirthYear': '1250', 'DeathYear': '1344'},\n",
       "   {'Name': 'Third+////', 'BirthYear': '1278', 'DeathYear': '1352'}]},\n",
       " {'Name': 'Second++', 'BirthYear': '1243', 'DeathYear': '1260'}]"
      ]
     },
     "execution_count": 7,
     "metadata": {},
     "output_type": "execute_result"
    }
   ],
   "source": [
    "treedata['Members']['Members'][1]['Members']"
   ]
  },
  {
   "cell_type": "code",
   "execution_count": 8,
   "id": "b9e459c8",
   "metadata": {},
   "outputs": [],
   "source": [
    "class Node:\n",
    "    def __init__(self,key):\n",
    "        self.key = key\n",
    "        self.left = None\n",
    "        self.right = None"
   ]
  },
  {
   "cell_type": "code",
   "execution_count": 9,
   "id": "06f28862",
   "metadata": {},
   "outputs": [],
   "source": [
    "Node0 = Node(treedata['Members'])\n",
    "Node1 = Node(treedata['Members']['Members'][0])\n",
    "Node2 = Node(treedata['Members']['Members'][1])"
   ]
  },
  {
   "cell_type": "code",
   "execution_count": 10,
   "id": "3ae24386",
   "metadata": {},
   "outputs": [],
   "source": [
    "Node0.left = Node1\n",
    "Node0.right = Node2"
   ]
  },
  {
   "cell_type": "code",
   "execution_count": 36,
   "id": "800fd5ee",
   "metadata": {},
   "outputs": [],
   "source": [
    "class Nodex:\n",
    "    def __init__(self,key,Name = None,BirthYear = None,DeathYear = None):\n",
    "        self.key = key\n",
    "        self.left = None\n",
    "        self.right = None\n",
    "        self.Name = key.get('Name')\n",
    "        self.BirthYear = key.get('BirthYear')\n",
    "        self.DeathYear = key.get('DeathYear')"
   ]
  },
  {
   "cell_type": "code",
   "execution_count": 37,
   "id": "7d1825d5",
   "metadata": {},
   "outputs": [
    {
     "data": {
      "text/plain": [
       "('First-', '1221', '1264')"
      ]
     },
     "execution_count": 37,
     "metadata": {},
     "output_type": "execute_result"
    }
   ],
   "source": [
    "Nodex0 = Nodex(treedata['Members']['Members'][0])\n",
    "Nodex0.Name,Nodex0.BirthYear,Nodex0.DeathYear"
   ]
  },
  {
   "cell_type": "code",
   "execution_count": 40,
   "id": "4b747c7e",
   "metadata": {},
   "outputs": [],
   "source": [
    "def parse_json(treedata):\n",
    "    if isinstance(treedata,dict):\n",
    "        node = Node(treedata['Members'])\n",
    "        node.left = Node(treedata['Members']['Members'][0])\n",
    "        node.right = Node(treedata['Members']['Members'][1])\n",
    "        \n",
    "    elif treedata.get[\"Members\"] is None:\n",
    "        node = None\n",
    "    \n",
    "    else:\n",
    "        node = Node(treedata)\n",
    "    return node"
   ]
  },
  {
   "cell_type": "code",
   "execution_count": 41,
   "id": "00d9a529",
   "metadata": {},
   "outputs": [],
   "source": [
    "treat = parse_json(treedata)"
   ]
  },
  {
   "cell_type": "code",
   "execution_count": 42,
   "id": "1affd9f4",
   "metadata": {},
   "outputs": [
    {
     "ename": "AttributeError",
     "evalue": "'NoneType' object has no attribute 'left'",
     "output_type": "error",
     "traceback": [
      "\u001b[1;31m---------------------------------------------------------------------------\u001b[0m",
      "\u001b[1;31mAttributeError\u001b[0m                            Traceback (most recent call last)",
      "Input \u001b[1;32mIn [42]\u001b[0m, in \u001b[0;36m<cell line: 1>\u001b[1;34m()\u001b[0m\n\u001b[1;32m----> 1\u001b[0m \u001b[43mtreat\u001b[49m\u001b[38;5;241;43m.\u001b[39;49m\u001b[43mright\u001b[49m\u001b[38;5;241;43m.\u001b[39;49m\u001b[43mleft\u001b[49m\u001b[38;5;241;43m.\u001b[39;49m\u001b[43mleft\u001b[49m\u001b[38;5;241m.\u001b[39mkey\n",
      "\u001b[1;31mAttributeError\u001b[0m: 'NoneType' object has no attribute 'left'"
     ]
    }
   ],
   "source": [
    "treat.right.left.left.key"
   ]
  },
  {
   "cell_type": "code",
   "execution_count": 57,
   "id": "73512019",
   "metadata": {},
   "outputs": [
    {
     "data": {
      "text/plain": [
       "{'FamilyTree': 'Some Family Tree',\n",
       " 'Members': [{'Name': 'First-',\n",
       "   'BirthYear': '1221',\n",
       "   'DeathYear': '1264',\n",
       "   'Members': [{'Name': 'Second-',\n",
       "     'BirthYear': '1245',\n",
       "     'DeathYear': '1300',\n",
       "     'Members': [{'Name': 'Third-', 'BirthYear': '1270', 'DeathYear': '1333'},\n",
       "      {'Name': 'Third--', 'BirthYear': '1272', 'DeathYear': '1300'},\n",
       "      {'Name': 'Third--', 'BirthYear': '1272', 'DeathYear': '1340'},\n",
       "      {'Name': 'Third---', 'BirthYear': '1274', 'DeathYear': '1343'}]},\n",
       "    {'Name': 'Second--',\n",
       "     'BirthYear': '1248',\n",
       "     'DeathYear': '1310',\n",
       "     'Members': [{'Name': 'Third-/', 'BirthYear': '1274', 'DeathYear': '1330'},\n",
       "      {'Name': 'Third-//', 'BirthYear': '1276', 'DeathYear': '1312'},\n",
       "      {'Name': 'Third-///', 'BirthYear': '1276', 'DeathYear': '1344'},\n",
       "      {'Name': 'Third-////', 'BirthYear': '1278', 'DeathYear': '1352'},\n",
       "      {'Name': 'Third-/////', 'BirthYear': '1278', 'DeathYear': '1268'}]}]},\n",
       "  {'Name': 'First--',\n",
       "   'BirthYear': '1212',\n",
       "   'DeathYear': '1260',\n",
       "   'Members': [{'Name': 'Second+', 'BirthYear': '1243', 'DeathYear': '1312'},\n",
       "    {'Name': 'Second++',\n",
       "     'BirthYear': '1245',\n",
       "     'DeathYear': '1274',\n",
       "     'Members': [{'Name': 'Third+/', 'BirthYear': '1274', 'DeathYear': '1330'},\n",
       "      {'Name': 'Third+//', 'BirthYear': '1276', 'DeathYear': '1312'},\n",
       "      {'Name': 'Third+///', 'BirthYear': '1250', 'DeathYear': '1344'},\n",
       "      {'Name': 'Third+////', 'BirthYear': '1278', 'DeathYear': '1352'}]},\n",
       "    {'Name': 'Second++', 'BirthYear': '1243', 'DeathYear': '1260'}]}]}"
      ]
     },
     "execution_count": 57,
     "metadata": {},
     "output_type": "execute_result"
    }
   ],
   "source": [
    "treedata2 = treedata['Members']\n",
    "treedata2"
   ]
  },
  {
   "cell_type": "code",
   "execution_count": 120,
   "id": "73257ccc",
   "metadata": {},
   "outputs": [],
   "source": [
    "class Nodex:\n",
    "    def __init__(self,key,Name = None,BirthYear = None,DeathYear = None):\n",
    "        self.key = key\n",
    "        self.left = None\n",
    "        self.right = None\n",
    "        self.Name = key.get('Name')\n",
    "        self.BirthYear = key.get('BirthYear')\n",
    "        self.DeathYear = key.get('DeathYear')\n",
    "\n",
    "\n",
    "def parse_json2(treedata):\n",
    "    if isinstance(treedata,dict) and \"Members\" in treedata.keys():\n",
    "        node = Nodex(treedata)\n",
    "        \n",
    "        node.left = parse_json2(treedata['Members'][0])\n",
    "        node.right = parse_json2(treedata['Members'][1])\n",
    "        \n",
    "    elif treedata.get(\"Members\") is None:\n",
    "        node = None\n",
    "        #print(node.Name)\n",
    "    else:\n",
    "        node = Nodex(treedata)\n",
    "        #print(node.Name)\n",
    "    return node"
   ]
  },
  {
   "cell_type": "code",
   "execution_count": 121,
   "id": "2eece2d7",
   "metadata": {},
   "outputs": [
    {
     "ename": "KeyError",
     "evalue": "'Members'",
     "output_type": "error",
     "traceback": [
      "\u001b[1;31m---------------------------------------------------------------------------\u001b[0m",
      "\u001b[1;31mKeyError\u001b[0m                                  Traceback (most recent call last)",
      "Input \u001b[1;32mIn [121]\u001b[0m, in \u001b[0;36m<cell line: 1>\u001b[1;34m()\u001b[0m\n\u001b[1;32m----> 1\u001b[0m treat2 \u001b[38;5;241m=\u001b[39m \u001b[43mparse_json2\u001b[49m\u001b[43m(\u001b[49m\u001b[43mtreedata2\u001b[49m\u001b[43m)\u001b[49m\n",
      "Input \u001b[1;32mIn [120]\u001b[0m, in \u001b[0;36mparse_json2\u001b[1;34m(treedata)\u001b[0m\n\u001b[0;32m     12\u001b[0m \u001b[38;5;28;01mif\u001b[39;00m \u001b[38;5;28misinstance\u001b[39m(treedata,\u001b[38;5;28mdict\u001b[39m) :\n\u001b[0;32m     13\u001b[0m     node \u001b[38;5;241m=\u001b[39m Nodex(treedata)\n\u001b[1;32m---> 15\u001b[0m     node\u001b[38;5;241m.\u001b[39mleft \u001b[38;5;241m=\u001b[39m \u001b[43mparse_json2\u001b[49m\u001b[43m(\u001b[49m\u001b[43mtreedata\u001b[49m\u001b[43m[\u001b[49m\u001b[38;5;124;43m'\u001b[39;49m\u001b[38;5;124;43mMembers\u001b[39;49m\u001b[38;5;124;43m'\u001b[39;49m\u001b[43m]\u001b[49m\u001b[43m[\u001b[49m\u001b[38;5;241;43m0\u001b[39;49m\u001b[43m]\u001b[49m\u001b[43m)\u001b[49m\n\u001b[0;32m     16\u001b[0m     node\u001b[38;5;241m.\u001b[39mright \u001b[38;5;241m=\u001b[39m parse_json2(treedata[\u001b[38;5;124m'\u001b[39m\u001b[38;5;124mMembers\u001b[39m\u001b[38;5;124m'\u001b[39m][\u001b[38;5;241m1\u001b[39m])\n\u001b[0;32m     18\u001b[0m \u001b[38;5;28;01melif\u001b[39;00m treedata\u001b[38;5;241m.\u001b[39mget(\u001b[38;5;124m\"\u001b[39m\u001b[38;5;124mMembers\u001b[39m\u001b[38;5;124m\"\u001b[39m) \u001b[38;5;129;01mis\u001b[39;00m \u001b[38;5;28;01mNone\u001b[39;00m:\n",
      "Input \u001b[1;32mIn [120]\u001b[0m, in \u001b[0;36mparse_json2\u001b[1;34m(treedata)\u001b[0m\n\u001b[0;32m     12\u001b[0m \u001b[38;5;28;01mif\u001b[39;00m \u001b[38;5;28misinstance\u001b[39m(treedata,\u001b[38;5;28mdict\u001b[39m) :\n\u001b[0;32m     13\u001b[0m     node \u001b[38;5;241m=\u001b[39m Nodex(treedata)\n\u001b[1;32m---> 15\u001b[0m     node\u001b[38;5;241m.\u001b[39mleft \u001b[38;5;241m=\u001b[39m \u001b[43mparse_json2\u001b[49m\u001b[43m(\u001b[49m\u001b[43mtreedata\u001b[49m\u001b[43m[\u001b[49m\u001b[38;5;124;43m'\u001b[39;49m\u001b[38;5;124;43mMembers\u001b[39;49m\u001b[38;5;124;43m'\u001b[39;49m\u001b[43m]\u001b[49m\u001b[43m[\u001b[49m\u001b[38;5;241;43m0\u001b[39;49m\u001b[43m]\u001b[49m\u001b[43m)\u001b[49m\n\u001b[0;32m     16\u001b[0m     node\u001b[38;5;241m.\u001b[39mright \u001b[38;5;241m=\u001b[39m parse_json2(treedata[\u001b[38;5;124m'\u001b[39m\u001b[38;5;124mMembers\u001b[39m\u001b[38;5;124m'\u001b[39m][\u001b[38;5;241m1\u001b[39m])\n\u001b[0;32m     18\u001b[0m \u001b[38;5;28;01melif\u001b[39;00m treedata\u001b[38;5;241m.\u001b[39mget(\u001b[38;5;124m\"\u001b[39m\u001b[38;5;124mMembers\u001b[39m\u001b[38;5;124m\"\u001b[39m) \u001b[38;5;129;01mis\u001b[39;00m \u001b[38;5;28;01mNone\u001b[39;00m:\n",
      "    \u001b[1;31m[... skipping similar frames: parse_json2 at line 15 (1 times)]\u001b[0m\n",
      "Input \u001b[1;32mIn [120]\u001b[0m, in \u001b[0;36mparse_json2\u001b[1;34m(treedata)\u001b[0m\n\u001b[0;32m     12\u001b[0m \u001b[38;5;28;01mif\u001b[39;00m \u001b[38;5;28misinstance\u001b[39m(treedata,\u001b[38;5;28mdict\u001b[39m) :\n\u001b[0;32m     13\u001b[0m     node \u001b[38;5;241m=\u001b[39m Nodex(treedata)\n\u001b[1;32m---> 15\u001b[0m     node\u001b[38;5;241m.\u001b[39mleft \u001b[38;5;241m=\u001b[39m parse_json2(\u001b[43mtreedata\u001b[49m\u001b[43m[\u001b[49m\u001b[38;5;124;43m'\u001b[39;49m\u001b[38;5;124;43mMembers\u001b[39;49m\u001b[38;5;124;43m'\u001b[39;49m\u001b[43m]\u001b[49m[\u001b[38;5;241m0\u001b[39m])\n\u001b[0;32m     16\u001b[0m     node\u001b[38;5;241m.\u001b[39mright \u001b[38;5;241m=\u001b[39m parse_json2(treedata[\u001b[38;5;124m'\u001b[39m\u001b[38;5;124mMembers\u001b[39m\u001b[38;5;124m'\u001b[39m][\u001b[38;5;241m1\u001b[39m])\n\u001b[0;32m     18\u001b[0m \u001b[38;5;28;01melif\u001b[39;00m treedata\u001b[38;5;241m.\u001b[39mget(\u001b[38;5;124m\"\u001b[39m\u001b[38;5;124mMembers\u001b[39m\u001b[38;5;124m\"\u001b[39m) \u001b[38;5;129;01mis\u001b[39;00m \u001b[38;5;28;01mNone\u001b[39;00m:\n",
      "\u001b[1;31mKeyError\u001b[0m: 'Members'"
     ]
    }
   ],
   "source": [
    "treat2 = parse_json2(treedata2)"
   ]
  },
  {
   "cell_type": "code",
   "execution_count": 106,
   "id": "a881981a",
   "metadata": {},
   "outputs": [
    {
     "data": {
      "text/plain": [
       "{'Name': 'First--',\n",
       " 'BirthYear': '1212',\n",
       " 'DeathYear': '1260',\n",
       " 'Members': [{'Name': 'Second+', 'BirthYear': '1243', 'DeathYear': '1312'},\n",
       "  {'Name': 'Second++',\n",
       "   'BirthYear': '1245',\n",
       "   'DeathYear': '1274',\n",
       "   'Members': [{'Name': 'Third+/', 'BirthYear': '1274', 'DeathYear': '1330'},\n",
       "    {'Name': 'Third+//', 'BirthYear': '1276', 'DeathYear': '1312'},\n",
       "    {'Name': 'Third+///', 'BirthYear': '1250', 'DeathYear': '1344'},\n",
       "    {'Name': 'Third+////', 'BirthYear': '1278', 'DeathYear': '1352'}]},\n",
       "  {'Name': 'Second++', 'BirthYear': '1243', 'DeathYear': '1260'}]}"
      ]
     },
     "execution_count": 106,
     "metadata": {},
     "output_type": "execute_result"
    }
   ],
   "source": [
    "treat2.right.key\n"
   ]
  },
  {
   "cell_type": "code",
   "execution_count": null,
   "id": "6769d5de",
   "metadata": {},
   "outputs": [],
   "source": []
  },
  {
   "cell_type": "code",
   "execution_count": 110,
   "id": "62f2fbd1",
   "metadata": {},
   "outputs": [],
   "source": [
    "def displays(node,space = '\\t',level = 0):\n",
    "    if node is None:\n",
    "        print(space*level+'0')\n",
    "        \n",
    "    if node.left is None and node.right is None:\n",
    "        print(space*level+str(node.Name))\n",
    "        \n",
    "    displays(node.right,space,level+1)\n",
    "    \n",
    "    print(space*level + str(node.Name))\n",
    "    \n",
    "    displays(node.right,space,level+1)\n",
    "        "
   ]
  },
  {
   "cell_type": "code",
   "execution_count": 111,
   "id": "7ff18a78",
   "metadata": {},
   "outputs": [
    {
     "name": "stdout",
     "output_type": "stream",
     "text": [
      "    0\n"
     ]
    },
    {
     "ename": "AttributeError",
     "evalue": "'NoneType' object has no attribute 'right'",
     "output_type": "error",
     "traceback": [
      "\u001b[1;31m---------------------------------------------------------------------------\u001b[0m",
      "\u001b[1;31mAttributeError\u001b[0m                            Traceback (most recent call last)",
      "Input \u001b[1;32mIn [111]\u001b[0m, in \u001b[0;36m<cell line: 1>\u001b[1;34m()\u001b[0m\n\u001b[1;32m----> 1\u001b[0m \u001b[43mdisplays\u001b[49m\u001b[43m(\u001b[49m\u001b[43mtreat2\u001b[49m\u001b[43m,\u001b[49m\u001b[38;5;124;43m'\u001b[39;49m\u001b[38;5;124;43m \u001b[39;49m\u001b[38;5;124;43m'\u001b[39;49m\u001b[43m)\u001b[49m\n",
      "Input \u001b[1;32mIn [110]\u001b[0m, in \u001b[0;36mdisplays\u001b[1;34m(node, space, level)\u001b[0m\n\u001b[0;32m      3\u001b[0m         \u001b[38;5;28mprint\u001b[39m(space\u001b[38;5;241m*\u001b[39mlevel\u001b[38;5;241m+\u001b[39m\u001b[38;5;124m'\u001b[39m\u001b[38;5;124m0\u001b[39m\u001b[38;5;124m'\u001b[39m)\n\u001b[0;32m      5\u001b[0m \u001b[38;5;66;03m#     if node.left is None and node.right is None:\u001b[39;00m\n\u001b[0;32m      6\u001b[0m \u001b[38;5;66;03m#         print(space*level+str(node.Name))\u001b[39;00m\n\u001b[1;32m----> 8\u001b[0m     \u001b[43mdisplays\u001b[49m\u001b[43m(\u001b[49m\u001b[43mnode\u001b[49m\u001b[38;5;241;43m.\u001b[39;49m\u001b[43mright\u001b[49m\u001b[43m,\u001b[49m\u001b[43mspace\u001b[49m\u001b[43m,\u001b[49m\u001b[43mlevel\u001b[49m\u001b[38;5;241;43m+\u001b[39;49m\u001b[38;5;241;43m1\u001b[39;49m\u001b[43m)\u001b[49m\n\u001b[0;32m     10\u001b[0m     \u001b[38;5;28mprint\u001b[39m(space\u001b[38;5;241m*\u001b[39mlevel \u001b[38;5;241m+\u001b[39m \u001b[38;5;28mstr\u001b[39m(node\u001b[38;5;241m.\u001b[39mName))\n\u001b[0;32m     12\u001b[0m     displays(node\u001b[38;5;241m.\u001b[39mright,space,level\u001b[38;5;241m+\u001b[39m\u001b[38;5;241m1\u001b[39m)\n",
      "Input \u001b[1;32mIn [110]\u001b[0m, in \u001b[0;36mdisplays\u001b[1;34m(node, space, level)\u001b[0m\n\u001b[0;32m      3\u001b[0m         \u001b[38;5;28mprint\u001b[39m(space\u001b[38;5;241m*\u001b[39mlevel\u001b[38;5;241m+\u001b[39m\u001b[38;5;124m'\u001b[39m\u001b[38;5;124m0\u001b[39m\u001b[38;5;124m'\u001b[39m)\n\u001b[0;32m      5\u001b[0m \u001b[38;5;66;03m#     if node.left is None and node.right is None:\u001b[39;00m\n\u001b[0;32m      6\u001b[0m \u001b[38;5;66;03m#         print(space*level+str(node.Name))\u001b[39;00m\n\u001b[1;32m----> 8\u001b[0m     \u001b[43mdisplays\u001b[49m\u001b[43m(\u001b[49m\u001b[43mnode\u001b[49m\u001b[38;5;241;43m.\u001b[39;49m\u001b[43mright\u001b[49m\u001b[43m,\u001b[49m\u001b[43mspace\u001b[49m\u001b[43m,\u001b[49m\u001b[43mlevel\u001b[49m\u001b[38;5;241;43m+\u001b[39;49m\u001b[38;5;241;43m1\u001b[39;49m\u001b[43m)\u001b[49m\n\u001b[0;32m     10\u001b[0m     \u001b[38;5;28mprint\u001b[39m(space\u001b[38;5;241m*\u001b[39mlevel \u001b[38;5;241m+\u001b[39m \u001b[38;5;28mstr\u001b[39m(node\u001b[38;5;241m.\u001b[39mName))\n\u001b[0;32m     12\u001b[0m     displays(node\u001b[38;5;241m.\u001b[39mright,space,level\u001b[38;5;241m+\u001b[39m\u001b[38;5;241m1\u001b[39m)\n",
      "    \u001b[1;31m[... skipping similar frames: displays at line 8 (2 times)]\u001b[0m\n",
      "Input \u001b[1;32mIn [110]\u001b[0m, in \u001b[0;36mdisplays\u001b[1;34m(node, space, level)\u001b[0m\n\u001b[0;32m      3\u001b[0m         \u001b[38;5;28mprint\u001b[39m(space\u001b[38;5;241m*\u001b[39mlevel\u001b[38;5;241m+\u001b[39m\u001b[38;5;124m'\u001b[39m\u001b[38;5;124m0\u001b[39m\u001b[38;5;124m'\u001b[39m)\n\u001b[0;32m      5\u001b[0m \u001b[38;5;66;03m#     if node.left is None and node.right is None:\u001b[39;00m\n\u001b[0;32m      6\u001b[0m \u001b[38;5;66;03m#         print(space*level+str(node.Name))\u001b[39;00m\n\u001b[1;32m----> 8\u001b[0m     displays(\u001b[43mnode\u001b[49m\u001b[38;5;241;43m.\u001b[39;49m\u001b[43mright\u001b[49m,space,level\u001b[38;5;241m+\u001b[39m\u001b[38;5;241m1\u001b[39m)\n\u001b[0;32m     10\u001b[0m     \u001b[38;5;28mprint\u001b[39m(space\u001b[38;5;241m*\u001b[39mlevel \u001b[38;5;241m+\u001b[39m \u001b[38;5;28mstr\u001b[39m(node\u001b[38;5;241m.\u001b[39mName))\n\u001b[0;32m     12\u001b[0m     displays(node\u001b[38;5;241m.\u001b[39mright,space,level\u001b[38;5;241m+\u001b[39m\u001b[38;5;241m1\u001b[39m)\n",
      "\u001b[1;31mAttributeError\u001b[0m: 'NoneType' object has no attribute 'right'"
     ]
    }
   ],
   "source": [
    "displays(treat2,' ')"
   ]
  },
  {
   "cell_type": "code",
   "execution_count": null,
   "id": "77e6dab7",
   "metadata": {},
   "outputs": [],
   "source": []
  }
 ],
 "metadata": {
  "kernelspec": {
   "display_name": "Python 3 (ipykernel)",
   "language": "python",
   "name": "python3"
  },
  "language_info": {
   "codemirror_mode": {
    "name": "ipython",
    "version": 3
   },
   "file_extension": ".py",
   "mimetype": "text/x-python",
   "name": "python",
   "nbconvert_exporter": "python",
   "pygments_lexer": "ipython3",
   "version": "3.9.12"
  }
 },
 "nbformat": 4,
 "nbformat_minor": 5
}
